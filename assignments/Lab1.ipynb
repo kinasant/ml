{
  "nbformat": 4,
  "nbformat_minor": 0,
  "metadata": {
    "colab": {
      "provenance": []
    },
    "kernelspec": {
      "name": "python3",
      "display_name": "Python 3"
    },
    "language_info": {
      "name": "python"
    }
  },
  "cells": [
    {
      "cell_type": "markdown",
      "source": [
        "Set B"
      ],
      "metadata": {
        "id": "zIGkhj2VIFvo"
      }
    },
    {
      "cell_type": "markdown",
      "source": [
        "1.\n",
        "Write a program to count the number of vowels and consonants present in an input string"
      ],
      "metadata": {
        "id": "x70ZvrRZIS6d"
      }
    },
    {
      "cell_type": "code",
      "source": [
        "def count(x):\n",
        "  vowels = 'aeiouAEIOU'\n",
        "  cv = 0\n",
        "  cc= 0\n",
        "  flag = True\n",
        "  for i in vowels:\n",
        "    if i in x:\n",
        "      flag = False\n",
        "      break\n",
        "  if flag:\n",
        "    vowels += \"Yy\"\n",
        "  for i in x:\n",
        "    if i in vowels:\n",
        "      cv+=1\n",
        "    else:\n",
        "      cc+=1\n",
        "  return cv,cc\n",
        "\n"
      ],
      "metadata": {
        "id": "npFuhXPeIoWH"
      },
      "execution_count": null,
      "outputs": []
    },
    {
      "cell_type": "markdown",
      "source": [
        "2. Write a program that accepts two matrices A and B as input and returns their product AB.\n",
        "Check if A & B are multipliable; if not, return error message."
      ],
      "metadata": {
        "id": "deNxe5IsLbYe"
      }
    },
    {
      "cell_type": "code",
      "source": [
        "class Matrix:\n",
        "  def __init__(self,block):\n",
        "    self.x = len(block)\n",
        "    self.y = len(block[0])\n",
        "    self.block = block\n",
        "  def lmul(t1,t2):\n",
        "    c=0\n",
        "    for i in range(len(t1)):\n",
        "      c+= t1[i]*t2[i]\n",
        "    return c\n",
        "  def transpose(self):\n",
        "    s = [[0 for i in range(self.x)] for j in range(self.y)]\n",
        "    cnt = 0\n",
        "    for i in self.block:\n",
        "      for j in range(len(i)):\n",
        "        s[j][cnt]= i[j]\n",
        "      cnt+=1\n",
        "    return s\n",
        "  def mult(self,other):\n",
        "    if self.y != other.x:\n",
        "      print(\"Error: Cannot multiply matrix\")\n",
        "      return\n",
        "    s = [[0 for i in range(self.x)] for j in range(other.y)]\n",
        "    cnt=0\n",
        "    t1 = other.transpose()\n",
        "    i1=0\n",
        "    j1=0\n",
        "    for i in self.block:\n",
        "      for j in t1:\n",
        "        s[i1][j1]= Matrix.lmul(i,j)\n",
        "        j1+=1\n",
        "      i1+=1\n",
        "      j1=0\n",
        "    return s\n"
      ],
      "metadata": {
        "id": "auBYQNy_LY-X"
      },
      "execution_count": 108,
      "outputs": []
    },
    {
      "cell_type": "code",
      "source": [
        "A = Matrix([[1,2],[3,4]])\n",
        "B = Matrix([[7,8],[9,10]])"
      ],
      "metadata": {
        "id": "nn7ksbsJNh6e"
      },
      "execution_count": 109,
      "outputs": []
    },
    {
      "cell_type": "code",
      "source": [
        "A.mult(B)"
      ],
      "metadata": {
        "colab": {
          "base_uri": "https://localhost:8080/"
        },
        "id": "0eNLMz6IUiS7",
        "outputId": "b221ef80-f933-4fa5-c67e-ca633f17b821"
      },
      "execution_count": 112,
      "outputs": [
        {
          "output_type": "execute_result",
          "data": {
            "text/plain": [
              "[[25, 28], [57, 64]]"
            ]
          },
          "metadata": {},
          "execution_count": 112
        }
      ]
    },
    {
      "cell_type": "markdown",
      "source": [
        "3. Write a program to find the number of common elements between two lists. The lists contain integers.\n"
      ],
      "metadata": {
        "id": "YS28GpXFdhNk"
      }
    },
    {
      "cell_type": "code",
      "source": [
        "def common(l1,l2):\n",
        "  l3 =[]\n",
        "  for i in l1:\n",
        "    if i in l2:\n",
        "      if i not in l3:\n",
        "        l3.append(i)\n",
        "  return len(l3)\n",
        "l1 = [1,2,4,5,9]\n",
        "l2=  [9,6,4,3]\n",
        "common(l1,l2)"
      ],
      "metadata": {
        "colab": {
          "base_uri": "https://localhost:8080/"
        },
        "id": "Vwffb0rgdjQp",
        "outputId": "df48b573-3854-443b-99ae-dde5662d374b"
      },
      "execution_count": 115,
      "outputs": [
        {
          "output_type": "execute_result",
          "data": {
            "text/plain": [
              "2"
            ]
          },
          "metadata": {},
          "execution_count": 115
        }
      ]
    },
    {
      "cell_type": "markdown",
      "source": [
        "4. Write a program that accepts a matrix as input and returns its transpose."
      ],
      "metadata": {
        "id": "E2AHYeVReSKj"
      }
    },
    {
      "cell_type": "code",
      "source": [
        "B = Matrix([[7,8],[9,10],[11,12]])\n",
        "B.transpose()"
      ],
      "metadata": {
        "colab": {
          "base_uri": "https://localhost:8080/"
        },
        "id": "lFiQgRieeIaj",
        "outputId": "4dc70ee8-addc-4e47-c0b9-a4ebf33e08aa"
      },
      "execution_count": 116,
      "outputs": [
        {
          "output_type": "execute_result",
          "data": {
            "text/plain": [
              "[[7, 9, 11], [8, 10, 12]]"
            ]
          },
          "metadata": {},
          "execution_count": 116
        }
      ]
    }
  ]
}