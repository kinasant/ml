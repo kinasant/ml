{
  "metadata": {
    "kernelspec": {
      "language": "python",
      "display_name": "Python 3",
      "name": "python3"
    },
    "language_info": {
      "name": "python",
      "version": "3.10.13",
      "mimetype": "text/x-python",
      "codemirror_mode": {
        "name": "ipython",
        "version": 3
      },
      "pygments_lexer": "ipython3",
      "nbconvert_exporter": "python",
      "file_extension": ".py"
    },
    "kaggle": {
      "accelerator": "none",
      "dataSources": [
        {
          "sourceId": 9071778,
          "sourceType": "datasetVersion",
          "datasetId": 5471993
        }
      ],
      "dockerImageVersionId": 30746,
      "isInternetEnabled": true,
      "language": "python",
      "sourceType": "notebook",
      "isGpuEnabled": false
    },
    "colab": {
      "name": "ml-lab02",
      "provenance": [],
      "include_colab_link": true
    }
  },
  "nbformat_minor": 0,
  "nbformat": 4,
  "cells": [
    {
      "cell_type": "markdown",
      "metadata": {
        "id": "view-in-github",
        "colab_type": "text"
      },
      "source": [
        "<a href=\"https://colab.research.google.com/github/kinasant/ml/blob/main/ml_lab02.ipynb\" target=\"_parent\"><img src=\"https://colab.research.google.com/assets/colab-badge.svg\" alt=\"Open In Colab\"/></a>"
      ]
    },
    {
      "source": [
        "\n",
        "# IMPORTANT: RUN THIS CELL IN ORDER TO IMPORT YOUR KAGGLE DATA SOURCES\n",
        "# TO THE CORRECT LOCATION (/kaggle/input) IN YOUR NOTEBOOK,\n",
        "# THEN FEEL FREE TO DELETE THIS CELL.\n",
        "# NOTE: THIS NOTEBOOK ENVIRONMENT DIFFERS FROM KAGGLE'S PYTHON\n",
        "# ENVIRONMENT SO THERE MAY BE MISSING LIBRARIES USED BY YOUR\n",
        "# NOTEBOOK.\n",
        "\n",
        "import os\n",
        "import sys\n",
        "from tempfile import NamedTemporaryFile\n",
        "from urllib.request import urlopen\n",
        "from urllib.parse import unquote, urlparse\n",
        "from urllib.error import HTTPError\n",
        "from zipfile import ZipFile\n",
        "import tarfile\n",
        "import shutil\n",
        "\n",
        "CHUNK_SIZE = 40960\n",
        "DATA_SOURCE_MAPPING = 'ml-lab2:https%3A%2F%2Fstorage.googleapis.com%2Fkaggle-data-sets%2F5471993%2F9071778%2Fbundle%2Farchive.zip%3FX-Goog-Algorithm%3DGOOG4-RSA-SHA256%26X-Goog-Credential%3Dgcp-kaggle-com%2540kaggle-161607.iam.gserviceaccount.com%252F20240731%252Fauto%252Fstorage%252Fgoog4_request%26X-Goog-Date%3D20240731T073644Z%26X-Goog-Expires%3D259200%26X-Goog-SignedHeaders%3Dhost%26X-Goog-Signature%3D3676a771a09c0437656de49a50f023ac226f28776c9ce2052e6ceb0200f2769c4c7d7b2867609e12f9661dbbfd26f2c6d3f7ebae32fd0fda84faac864bfc2795029a5d9a2d1ac1704375af16dad6e44d1fcb0072bc437cc38824f8db54d5412093787cc585b20ebaae13af60506b164d1eff5dc03603d1f4cb96bca70a337b8c2d352d0512a43787671e036c5267e06d7edb1af1286b255d141a06204227d734cbb5ef46a57ce9e51c099843f2b1c5329f87f19e57879b8782219ae8d36d6a383dd9168e166829a03417b23df1e31973a9d3e5cc922e80adbb7574dba8686d1c0db6b2c7c7f9f741fcfdaf4c42cc0f9d8cf6cbd2f595d3b0f4987a42b704a355'\n",
        "\n",
        "KAGGLE_INPUT_PATH='/kaggle/input'\n",
        "KAGGLE_WORKING_PATH='/kaggle/working'\n",
        "KAGGLE_SYMLINK='kaggle'\n",
        "\n",
        "!umount /kaggle/input/ 2> /dev/null\n",
        "shutil.rmtree('/kaggle/input', ignore_errors=True)\n",
        "os.makedirs(KAGGLE_INPUT_PATH, 0o777, exist_ok=True)\n",
        "os.makedirs(KAGGLE_WORKING_PATH, 0o777, exist_ok=True)\n",
        "\n",
        "try:\n",
        "  os.symlink(KAGGLE_INPUT_PATH, os.path.join(\"..\", 'input'), target_is_directory=True)\n",
        "except FileExistsError:\n",
        "  pass\n",
        "try:\n",
        "  os.symlink(KAGGLE_WORKING_PATH, os.path.join(\"..\", 'working'), target_is_directory=True)\n",
        "except FileExistsError:\n",
        "  pass\n",
        "\n",
        "for data_source_mapping in DATA_SOURCE_MAPPING.split(','):\n",
        "    directory, download_url_encoded = data_source_mapping.split(':')\n",
        "    download_url = unquote(download_url_encoded)\n",
        "    filename = urlparse(download_url).path\n",
        "    destination_path = os.path.join(KAGGLE_INPUT_PATH, directory)\n",
        "    try:\n",
        "        with urlopen(download_url) as fileres, NamedTemporaryFile() as tfile:\n",
        "            total_length = fileres.headers['content-length']\n",
        "            print(f'Downloading {directory}, {total_length} bytes compressed')\n",
        "            dl = 0\n",
        "            data = fileres.read(CHUNK_SIZE)\n",
        "            while len(data) > 0:\n",
        "                dl += len(data)\n",
        "                tfile.write(data)\n",
        "                done = int(50 * dl / int(total_length))\n",
        "                sys.stdout.write(f\"\\r[{'=' * done}{' ' * (50-done)}] {dl} bytes downloaded\")\n",
        "                sys.stdout.flush()\n",
        "                data = fileres.read(CHUNK_SIZE)\n",
        "            if filename.endswith('.zip'):\n",
        "              with ZipFile(tfile) as zfile:\n",
        "                zfile.extractall(destination_path)\n",
        "            else:\n",
        "              with tarfile.open(tfile.name) as tarfile:\n",
        "                tarfile.extractall(destination_path)\n",
        "            print(f'\\nDownloaded and uncompressed: {directory}')\n",
        "    except HTTPError as e:\n",
        "        print(f'Failed to load (likely expired) {download_url} to path {destination_path}')\n",
        "        continue\n",
        "    except OSError as e:\n",
        "        print(f'Failed to load {download_url} to path {destination_path}')\n",
        "        continue\n",
        "\n",
        "print('Data source import complete.')\n"
      ],
      "metadata": {
        "id": "PVsJlPu6uFhH"
      },
      "cell_type": "code",
      "outputs": [],
      "execution_count": null
    },
    {
      "cell_type": "code",
      "source": [
        "# This Python 3 environment comes with many helpful analytics libraries installed\n",
        "# It is defined by the kaggle/python Docker image: https://github.com/kaggle/docker-python\n",
        "# For example, here's several helpful packages to load\n",
        "\n",
        "import numpy as np # linear algebra\n",
        "import pandas as pd # data processing, CSV file I/O (e.g. pd.read_csv)\n",
        "\n",
        "# Input data files are available in the read-only \"../input/\" directory\n",
        "# For example, running this (by clicking run or pressing Shift+Enter) will list all files under the input directory\n",
        "\n",
        "import os\n",
        "for dirname, _, filenames in os.walk('/kaggle/input'):\n",
        "    for filename in filenames:\n",
        "        print(os.path.join(dirname, filename))\n",
        "\n",
        "# You can write up to 20GB to the current directory (/kaggle/working/) that gets preserved as output when you create a version using \"Save & Run All\"\n",
        "# You can also write temporary files to /kaggle/temp/, but they won't be saved outside of the current session"
      ],
      "metadata": {
        "_uuid": "8f2839f25d086af736a60e9eeb907d3b93b6e0e5",
        "_cell_guid": "b1076dfc-b9ad-4769-8c92-a6c4dae69d19",
        "execution": {
          "iopub.status.busy": "2024-07-31T06:02:53.350623Z",
          "iopub.execute_input": "2024-07-31T06:02:53.351518Z",
          "iopub.status.idle": "2024-07-31T06:02:53.360654Z",
          "shell.execute_reply.started": "2024-07-31T06:02:53.351481Z",
          "shell.execute_reply": "2024-07-31T06:02:53.359472Z"
        },
        "trusted": true,
        "id": "_0AbNo6zuFhL",
        "outputId": "07ef1f00-2535-4af0-ccb7-26dc11e642cc"
      },
      "execution_count": null,
      "outputs": [
        {
          "name": "stdout",
          "text": "/kaggle/input/ml-lab2/Lab Session Data.xlsx\n",
          "output_type": "stream"
        }
      ]
    },
    {
      "cell_type": "code",
      "source": [
        "os.listdir(\"/kaggle/input\")"
      ],
      "metadata": {
        "execution": {
          "iopub.status.busy": "2024-07-31T06:05:41.939307Z",
          "iopub.execute_input": "2024-07-31T06:05:41.939733Z",
          "iopub.status.idle": "2024-07-31T06:05:41.94784Z",
          "shell.execute_reply.started": "2024-07-31T06:05:41.939701Z",
          "shell.execute_reply": "2024-07-31T06:05:41.946763Z"
        },
        "trusted": true,
        "id": "CxpQvPc-uFhM",
        "outputId": "51ec596a-41af-43de-a72c-b4628a8fd511"
      },
      "execution_count": null,
      "outputs": [
        {
          "execution_count": 20,
          "output_type": "execute_result",
          "data": {
            "text/plain": "['ml-lab2']"
          },
          "metadata": {}
        }
      ]
    },
    {
      "cell_type": "code",
      "source": [
        "cd ml-lab2"
      ],
      "metadata": {
        "execution": {
          "iopub.status.busy": "2024-07-31T06:02:53.644946Z",
          "iopub.execute_input": "2024-07-31T06:02:53.645326Z",
          "iopub.status.idle": "2024-07-31T06:02:53.651809Z",
          "shell.execute_reply.started": "2024-07-31T06:02:53.645286Z",
          "shell.execute_reply": "2024-07-31T06:02:53.650772Z"
        },
        "trusted": true,
        "id": "sQMMm6GiuFhM",
        "outputId": "8d836483-39ef-4bef-af53-12659cb1fa47"
      },
      "execution_count": null,
      "outputs": [
        {
          "name": "stdout",
          "text": "/kaggle/input/ml-lab2\n",
          "output_type": "stream"
        }
      ]
    },
    {
      "cell_type": "code",
      "source": [
        "ls"
      ],
      "metadata": {
        "execution": {
          "iopub.status.busy": "2024-07-31T06:02:53.773701Z",
          "iopub.execute_input": "2024-07-31T06:02:53.774074Z",
          "iopub.status.idle": "2024-07-31T06:02:54.829159Z",
          "shell.execute_reply.started": "2024-07-31T06:02:53.774043Z",
          "shell.execute_reply": "2024-07-31T06:02:54.827775Z"
        },
        "trusted": true,
        "id": "YVlrIOMmuFhN",
        "outputId": "9a3a7311-eff7-4b8f-a3e3-d5f8cfd52961"
      },
      "execution_count": null,
      "outputs": [
        {
          "name": "stdout",
          "text": "'Lab Session Data.xlsx'\n",
          "output_type": "stream"
        }
      ]
    },
    {
      "cell_type": "code",
      "source": [
        "ls"
      ],
      "metadata": {
        "execution": {
          "iopub.status.busy": "2024-07-31T06:02:58.369226Z",
          "iopub.execute_input": "2024-07-31T06:02:58.370127Z",
          "iopub.status.idle": "2024-07-31T06:02:59.426211Z",
          "shell.execute_reply.started": "2024-07-31T06:02:58.370087Z",
          "shell.execute_reply": "2024-07-31T06:02:59.425058Z"
        },
        "trusted": true,
        "id": "lVj_8qkduFhN",
        "outputId": "14823718-d686-438d-e658-68fd6f27fe4f"
      },
      "execution_count": null,
      "outputs": [
        {
          "name": "stdout",
          "text": "'Lab Session Data.xlsx'\n",
          "output_type": "stream"
        }
      ]
    },
    {
      "cell_type": "code",
      "source": [
        "xls = pd.ExcelFile(\"/kaggle/input/ml-lab2/Lab Session Data.xlsx\")\n",
        "df1 = pd.read_excel(xls,sheet_name=0)\n",
        "df1=df1.iloc[:,[i for i in range(0,5)]]"
      ],
      "metadata": {
        "execution": {
          "iopub.status.busy": "2024-07-31T06:47:00.437592Z",
          "iopub.execute_input": "2024-07-31T06:47:00.438307Z",
          "iopub.status.idle": "2024-07-31T06:47:00.49491Z",
          "shell.execute_reply.started": "2024-07-31T06:47:00.438266Z",
          "shell.execute_reply": "2024-07-31T06:47:00.493854Z"
        },
        "trusted": true,
        "id": "0sAQj2ceuFhN"
      },
      "execution_count": null,
      "outputs": []
    },
    {
      "cell_type": "code",
      "source": [
        "df2 = pd.read_excel(xls,sheet_name=1)"
      ],
      "metadata": {
        "execution": {
          "iopub.status.busy": "2024-07-31T06:51:12.267413Z",
          "iopub.execute_input": "2024-07-31T06:51:12.268225Z",
          "iopub.status.idle": "2024-07-31T06:51:12.315008Z",
          "shell.execute_reply.started": "2024-07-31T06:51:12.268187Z",
          "shell.execute_reply": "2024-07-31T06:51:12.313922Z"
        },
        "trusted": true,
        "id": "2_cl7pJguFhO"
      },
      "execution_count": null,
      "outputs": []
    },
    {
      "cell_type": "code",
      "source": [
        "df1"
      ],
      "metadata": {
        "execution": {
          "iopub.status.busy": "2024-07-31T06:47:00.636833Z",
          "iopub.execute_input": "2024-07-31T06:47:00.637211Z",
          "iopub.status.idle": "2024-07-31T06:47:00.648459Z",
          "shell.execute_reply.started": "2024-07-31T06:47:00.637181Z",
          "shell.execute_reply": "2024-07-31T06:47:00.647346Z"
        },
        "trusted": true,
        "id": "vZUh0wQBuFhO",
        "outputId": "adeb946c-7719-4e77-d7dd-5e93de04b5bd"
      },
      "execution_count": null,
      "outputs": [
        {
          "execution_count": 81,
          "output_type": "execute_result",
          "data": {
            "text/plain": "  Customer  Candies (#)  Mangoes (Kg)  Milk Packets (#)  Payment (Rs)\n0      C_1           20             6                 2           386\n1      C_2           16             3                 6           289\n2      C_3           27             6                 2           393\n3      C_4           19             1                 2           110\n4      C_5           24             4                 2           280\n5      C_6           22             1                 5           167\n6      C_7           15             4                 2           271\n7      C_8           18             4                 2           274\n8      C_9           21             1                 4           148\n9     C_10           16             2                 4           198",
            "text/html": "<div>\n<style scoped>\n    .dataframe tbody tr th:only-of-type {\n        vertical-align: middle;\n    }\n\n    .dataframe tbody tr th {\n        vertical-align: top;\n    }\n\n    .dataframe thead th {\n        text-align: right;\n    }\n</style>\n<table border=\"1\" class=\"dataframe\">\n  <thead>\n    <tr style=\"text-align: right;\">\n      <th></th>\n      <th>Customer</th>\n      <th>Candies (#)</th>\n      <th>Mangoes (Kg)</th>\n      <th>Milk Packets (#)</th>\n      <th>Payment (Rs)</th>\n    </tr>\n  </thead>\n  <tbody>\n    <tr>\n      <th>0</th>\n      <td>C_1</td>\n      <td>20</td>\n      <td>6</td>\n      <td>2</td>\n      <td>386</td>\n    </tr>\n    <tr>\n      <th>1</th>\n      <td>C_2</td>\n      <td>16</td>\n      <td>3</td>\n      <td>6</td>\n      <td>289</td>\n    </tr>\n    <tr>\n      <th>2</th>\n      <td>C_3</td>\n      <td>27</td>\n      <td>6</td>\n      <td>2</td>\n      <td>393</td>\n    </tr>\n    <tr>\n      <th>3</th>\n      <td>C_4</td>\n      <td>19</td>\n      <td>1</td>\n      <td>2</td>\n      <td>110</td>\n    </tr>\n    <tr>\n      <th>4</th>\n      <td>C_5</td>\n      <td>24</td>\n      <td>4</td>\n      <td>2</td>\n      <td>280</td>\n    </tr>\n    <tr>\n      <th>5</th>\n      <td>C_6</td>\n      <td>22</td>\n      <td>1</td>\n      <td>5</td>\n      <td>167</td>\n    </tr>\n    <tr>\n      <th>6</th>\n      <td>C_7</td>\n      <td>15</td>\n      <td>4</td>\n      <td>2</td>\n      <td>271</td>\n    </tr>\n    <tr>\n      <th>7</th>\n      <td>C_8</td>\n      <td>18</td>\n      <td>4</td>\n      <td>2</td>\n      <td>274</td>\n    </tr>\n    <tr>\n      <th>8</th>\n      <td>C_9</td>\n      <td>21</td>\n      <td>1</td>\n      <td>4</td>\n      <td>148</td>\n    </tr>\n    <tr>\n      <th>9</th>\n      <td>C_10</td>\n      <td>16</td>\n      <td>2</td>\n      <td>4</td>\n      <td>198</td>\n    </tr>\n  </tbody>\n</table>\n</div>"
          },
          "metadata": {}
        }
      ]
    },
    {
      "cell_type": "code",
      "source": [
        "A = df1.iloc[:,[1,2,3]].to_numpy()\n",
        "C = df1.iloc[:,[-1]].to_numpy()"
      ],
      "metadata": {
        "execution": {
          "iopub.status.busy": "2024-07-31T06:47:14.143708Z",
          "iopub.execute_input": "2024-07-31T06:47:14.144066Z",
          "iopub.status.idle": "2024-07-31T06:47:14.150264Z",
          "shell.execute_reply.started": "2024-07-31T06:47:14.144038Z",
          "shell.execute_reply": "2024-07-31T06:47:14.149124Z"
        },
        "trusted": true,
        "id": "kkPlU2mpuFhO"
      },
      "execution_count": null,
      "outputs": []
    },
    {
      "cell_type": "code",
      "source": [
        "A.shape"
      ],
      "metadata": {
        "execution": {
          "iopub.status.busy": "2024-07-31T06:47:14.737506Z",
          "iopub.execute_input": "2024-07-31T06:47:14.737894Z",
          "iopub.status.idle": "2024-07-31T06:47:14.744599Z",
          "shell.execute_reply.started": "2024-07-31T06:47:14.737864Z",
          "shell.execute_reply": "2024-07-31T06:47:14.743479Z"
        },
        "trusted": true,
        "id": "WpZsDK1RuFhO",
        "outputId": "90bfe394-92fb-43ea-c2e0-d4e91e79a623"
      },
      "execution_count": null,
      "outputs": [
        {
          "execution_count": 85,
          "output_type": "execute_result",
          "data": {
            "text/plain": "(10, 3)"
          },
          "metadata": {}
        }
      ]
    },
    {
      "cell_type": "code",
      "source": [
        "C.shape"
      ],
      "metadata": {
        "execution": {
          "iopub.status.busy": "2024-07-31T06:47:15.175839Z",
          "iopub.execute_input": "2024-07-31T06:47:15.176225Z",
          "iopub.status.idle": "2024-07-31T06:47:15.182443Z",
          "shell.execute_reply.started": "2024-07-31T06:47:15.176194Z",
          "shell.execute_reply": "2024-07-31T06:47:15.1814Z"
        },
        "trusted": true,
        "id": "3NPJNa0EuFhP",
        "outputId": "05d71f70-ec93-417e-db8c-f63ff990274d"
      },
      "execution_count": null,
      "outputs": [
        {
          "execution_count": 86,
          "output_type": "execute_result",
          "data": {
            "text/plain": "(10, 1)"
          },
          "metadata": {}
        }
      ]
    },
    {
      "cell_type": "code",
      "source": [
        "len(A)"
      ],
      "metadata": {
        "execution": {
          "iopub.status.busy": "2024-07-31T06:47:16.938176Z",
          "iopub.execute_input": "2024-07-31T06:47:16.938567Z",
          "iopub.status.idle": "2024-07-31T06:47:16.945904Z",
          "shell.execute_reply.started": "2024-07-31T06:47:16.938537Z",
          "shell.execute_reply": "2024-07-31T06:47:16.944807Z"
        },
        "trusted": true,
        "id": "ow090ArbuFhP",
        "outputId": "0e548d11-ace4-4973-e926-f23508df7a85"
      },
      "execution_count": null,
      "outputs": [
        {
          "execution_count": 87,
          "output_type": "execute_result",
          "data": {
            "text/plain": "10"
          },
          "metadata": {}
        }
      ]
    },
    {
      "cell_type": "code",
      "source": [
        "len(C)"
      ],
      "metadata": {
        "execution": {
          "iopub.status.busy": "2024-07-31T06:47:17.575132Z",
          "iopub.execute_input": "2024-07-31T06:47:17.575629Z",
          "iopub.status.idle": "2024-07-31T06:47:17.582021Z",
          "shell.execute_reply.started": "2024-07-31T06:47:17.575595Z",
          "shell.execute_reply": "2024-07-31T06:47:17.580879Z"
        },
        "trusted": true,
        "id": "VRMpFL-BuFhP",
        "outputId": "c1dce704-fa47-475e-9e7b-996b01fc7961"
      },
      "execution_count": null,
      "outputs": [
        {
          "execution_count": 88,
          "output_type": "execute_result",
          "data": {
            "text/plain": "10"
          },
          "metadata": {}
        }
      ]
    },
    {
      "cell_type": "code",
      "source": [
        "np.linalg.matrix_rank(A)"
      ],
      "metadata": {
        "execution": {
          "iopub.status.busy": "2024-07-31T06:47:17.946454Z",
          "iopub.execute_input": "2024-07-31T06:47:17.947187Z",
          "iopub.status.idle": "2024-07-31T06:47:17.954435Z",
          "shell.execute_reply.started": "2024-07-31T06:47:17.947155Z",
          "shell.execute_reply": "2024-07-31T06:47:17.953261Z"
        },
        "trusted": true,
        "id": "bdHw0atEuFhP",
        "outputId": "bf7ff533-ed30-4fdd-8ef4-5c3251cfad7c"
      },
      "execution_count": null,
      "outputs": [
        {
          "execution_count": 89,
          "output_type": "execute_result",
          "data": {
            "text/plain": "3"
          },
          "metadata": {}
        }
      ]
    },
    {
      "cell_type": "code",
      "source": [
        "np.dot(np.linalg.pinv(A),C)"
      ],
      "metadata": {
        "execution": {
          "iopub.status.busy": "2024-07-31T06:47:19.73691Z",
          "iopub.execute_input": "2024-07-31T06:47:19.737288Z",
          "iopub.status.idle": "2024-07-31T06:47:19.744494Z",
          "shell.execute_reply.started": "2024-07-31T06:47:19.737259Z",
          "shell.execute_reply": "2024-07-31T06:47:19.743449Z"
        },
        "trusted": true,
        "id": "MZAqdgDJuFhQ",
        "outputId": "692707a4-25fc-4b71-e729-c1b3b015c769"
      },
      "execution_count": null,
      "outputs": [
        {
          "execution_count": 90,
          "output_type": "execute_result",
          "data": {
            "text/plain": "array([[ 1.],\n       [55.],\n       [18.]])"
          },
          "metadata": {}
        }
      ]
    },
    {
      "cell_type": "code",
      "source": [
        "df1[\"fin\"] = df1.iloc[:,-1].map(lambda x : \"RICH\" if x>200 else \"POOR\")"
      ],
      "metadata": {
        "execution": {
          "iopub.status.busy": "2024-07-31T06:49:19.341626Z",
          "iopub.execute_input": "2024-07-31T06:49:19.342004Z",
          "iopub.status.idle": "2024-07-31T06:49:19.348962Z",
          "shell.execute_reply.started": "2024-07-31T06:49:19.341974Z",
          "shell.execute_reply": "2024-07-31T06:49:19.347793Z"
        },
        "trusted": true,
        "id": "prBFuo4ouFhQ"
      },
      "execution_count": null,
      "outputs": []
    },
    {
      "cell_type": "code",
      "source": [
        "df1"
      ],
      "metadata": {
        "execution": {
          "iopub.status.busy": "2024-07-31T06:49:22.776468Z",
          "iopub.execute_input": "2024-07-31T06:49:22.776854Z",
          "iopub.status.idle": "2024-07-31T06:49:22.790056Z",
          "shell.execute_reply.started": "2024-07-31T06:49:22.776826Z",
          "shell.execute_reply": "2024-07-31T06:49:22.788549Z"
        },
        "trusted": true,
        "id": "hcMbRh0quFhQ",
        "outputId": "002de89c-c0ba-4e03-da4d-38be4cb61371"
      },
      "execution_count": null,
      "outputs": [
        {
          "execution_count": 95,
          "output_type": "execute_result",
          "data": {
            "text/plain": "  Customer  Candies (#)  Mangoes (Kg)  Milk Packets (#)  Payment (Rs)   fin\n0      C_1           20             6                 2           386  RICH\n1      C_2           16             3                 6           289  RICH\n2      C_3           27             6                 2           393  RICH\n3      C_4           19             1                 2           110  POOR\n4      C_5           24             4                 2           280  RICH\n5      C_6           22             1                 5           167  POOR\n6      C_7           15             4                 2           271  RICH\n7      C_8           18             4                 2           274  RICH\n8      C_9           21             1                 4           148  POOR\n9     C_10           16             2                 4           198  POOR",
            "text/html": "<div>\n<style scoped>\n    .dataframe tbody tr th:only-of-type {\n        vertical-align: middle;\n    }\n\n    .dataframe tbody tr th {\n        vertical-align: top;\n    }\n\n    .dataframe thead th {\n        text-align: right;\n    }\n</style>\n<table border=\"1\" class=\"dataframe\">\n  <thead>\n    <tr style=\"text-align: right;\">\n      <th></th>\n      <th>Customer</th>\n      <th>Candies (#)</th>\n      <th>Mangoes (Kg)</th>\n      <th>Milk Packets (#)</th>\n      <th>Payment (Rs)</th>\n      <th>fin</th>\n    </tr>\n  </thead>\n  <tbody>\n    <tr>\n      <th>0</th>\n      <td>C_1</td>\n      <td>20</td>\n      <td>6</td>\n      <td>2</td>\n      <td>386</td>\n      <td>RICH</td>\n    </tr>\n    <tr>\n      <th>1</th>\n      <td>C_2</td>\n      <td>16</td>\n      <td>3</td>\n      <td>6</td>\n      <td>289</td>\n      <td>RICH</td>\n    </tr>\n    <tr>\n      <th>2</th>\n      <td>C_3</td>\n      <td>27</td>\n      <td>6</td>\n      <td>2</td>\n      <td>393</td>\n      <td>RICH</td>\n    </tr>\n    <tr>\n      <th>3</th>\n      <td>C_4</td>\n      <td>19</td>\n      <td>1</td>\n      <td>2</td>\n      <td>110</td>\n      <td>POOR</td>\n    </tr>\n    <tr>\n      <th>4</th>\n      <td>C_5</td>\n      <td>24</td>\n      <td>4</td>\n      <td>2</td>\n      <td>280</td>\n      <td>RICH</td>\n    </tr>\n    <tr>\n      <th>5</th>\n      <td>C_6</td>\n      <td>22</td>\n      <td>1</td>\n      <td>5</td>\n      <td>167</td>\n      <td>POOR</td>\n    </tr>\n    <tr>\n      <th>6</th>\n      <td>C_7</td>\n      <td>15</td>\n      <td>4</td>\n      <td>2</td>\n      <td>271</td>\n      <td>RICH</td>\n    </tr>\n    <tr>\n      <th>7</th>\n      <td>C_8</td>\n      <td>18</td>\n      <td>4</td>\n      <td>2</td>\n      <td>274</td>\n      <td>RICH</td>\n    </tr>\n    <tr>\n      <th>8</th>\n      <td>C_9</td>\n      <td>21</td>\n      <td>1</td>\n      <td>4</td>\n      <td>148</td>\n      <td>POOR</td>\n    </tr>\n    <tr>\n      <th>9</th>\n      <td>C_10</td>\n      <td>16</td>\n      <td>2</td>\n      <td>4</td>\n      <td>198</td>\n      <td>POOR</td>\n    </tr>\n  </tbody>\n</table>\n</div>"
          },
          "metadata": {}
        }
      ]
    },
    {
      "cell_type": "code",
      "source": [
        "df2.Price.mean()"
      ],
      "metadata": {
        "execution": {
          "iopub.status.busy": "2024-07-31T06:51:57.121798Z",
          "iopub.execute_input": "2024-07-31T06:51:57.122739Z",
          "iopub.status.idle": "2024-07-31T06:51:57.129441Z",
          "shell.execute_reply.started": "2024-07-31T06:51:57.122704Z",
          "shell.execute_reply": "2024-07-31T06:51:57.128442Z"
        },
        "trusted": true,
        "id": "Nv3TGrxfuFhQ",
        "outputId": "8a777286-b575-41c0-9634-1fc47bde1620"
      },
      "execution_count": null,
      "outputs": [
        {
          "execution_count": 99,
          "output_type": "execute_result",
          "data": {
            "text/plain": "1560.6634538152612"
          },
          "metadata": {}
        }
      ]
    },
    {
      "cell_type": "code",
      "source": [
        "df2.Price.describe()"
      ],
      "metadata": {
        "execution": {
          "iopub.status.busy": "2024-07-31T06:52:31.744588Z",
          "iopub.execute_input": "2024-07-31T06:52:31.744977Z",
          "iopub.status.idle": "2024-07-31T06:52:31.756522Z",
          "shell.execute_reply.started": "2024-07-31T06:52:31.744948Z",
          "shell.execute_reply": "2024-07-31T06:52:31.755446Z"
        },
        "trusted": true,
        "id": "vlJc8i03uFhQ",
        "outputId": "335a9c1d-8cae-4e2f-cbcc-ee4a45462448"
      },
      "execution_count": null,
      "outputs": [
        {
          "execution_count": 101,
          "output_type": "execute_result",
          "data": {
            "text/plain": "count     249.000000\nmean     1560.663454\nstd       242.347613\nmin      1300.550000\n25%      1366.500000\n50%      1438.250000\n75%      1747.400000\nmax      2144.850000\nName: Price, dtype: float64"
          },
          "metadata": {}
        }
      ]
    },
    {
      "cell_type": "code",
      "source": [
        "df2.Price.std() ** 2"
      ],
      "metadata": {
        "execution": {
          "iopub.status.busy": "2024-07-31T07:06:35.416823Z",
          "iopub.execute_input": "2024-07-31T07:06:35.417664Z",
          "iopub.status.idle": "2024-07-31T07:06:35.424853Z",
          "shell.execute_reply.started": "2024-07-31T07:06:35.417626Z",
          "shell.execute_reply": "2024-07-31T07:06:35.423715Z"
        },
        "trusted": true,
        "id": "A3GLIocouFhQ",
        "outputId": "c09c3ae5-36d3-40ce-8535-faef08f73994"
      },
      "execution_count": null,
      "outputs": [
        {
          "execution_count": 108,
          "output_type": "execute_result",
          "data": {
            "text/plain": "58732.36535253918"
          },
          "metadata": {}
        }
      ]
    },
    {
      "cell_type": "code",
      "source": [
        "df2.groupby(\"Day\").Price.mean()[\"Wed\"],df2.Price.mean()"
      ],
      "metadata": {
        "execution": {
          "iopub.status.busy": "2024-07-31T07:12:37.491555Z",
          "iopub.execute_input": "2024-07-31T07:12:37.492986Z",
          "iopub.status.idle": "2024-07-31T07:12:37.502267Z",
          "shell.execute_reply.started": "2024-07-31T07:12:37.492939Z",
          "shell.execute_reply": "2024-07-31T07:12:37.500936Z"
        },
        "trusted": true,
        "id": "j0ycOXz5uFhQ",
        "outputId": "d773d884-c8f8-413b-c01c-8e8a0c8985f4"
      },
      "execution_count": null,
      "outputs": [
        {
          "execution_count": 123,
          "output_type": "execute_result",
          "data": {
            "text/plain": "(1550.7060000000001, 1560.6634538152612)"
          },
          "metadata": {}
        }
      ]
    },
    {
      "cell_type": "code",
      "source": [
        "df2.groupby(\"Month\").Price.mean()[\"Aug\"],df2.Price.mean()"
      ],
      "metadata": {
        "execution": {
          "iopub.status.busy": "2024-07-31T07:13:27.51796Z",
          "iopub.execute_input": "2024-07-31T07:13:27.518356Z",
          "iopub.status.idle": "2024-07-31T07:13:27.527322Z",
          "shell.execute_reply.started": "2024-07-31T07:13:27.518324Z",
          "shell.execute_reply": "2024-07-31T07:13:27.526174Z"
        },
        "trusted": true,
        "id": "Gcr9PcXHuFhQ",
        "outputId": "14b38500-f769-411b-b47e-7867a77cc885"
      },
      "execution_count": null,
      "outputs": [
        {
          "execution_count": 126,
          "output_type": "execute_result",
          "data": {
            "text/plain": "(1355.090476190476, 1560.6634538152612)"
          },
          "metadata": {}
        }
      ]
    },
    {
      "cell_type": "code",
      "source": [
        "sum(df2.iloc[:,-1] <0)/df2.iloc[:,-1].shape[0]"
      ],
      "metadata": {
        "execution": {
          "iopub.status.busy": "2024-07-31T07:20:15.792807Z",
          "iopub.execute_input": "2024-07-31T07:20:15.793804Z",
          "iopub.status.idle": "2024-07-31T07:20:15.801195Z",
          "shell.execute_reply.started": "2024-07-31T07:20:15.793768Z",
          "shell.execute_reply": "2024-07-31T07:20:15.799963Z"
        },
        "trusted": true,
        "id": "yLKeZx_luFhR",
        "outputId": "976fc288-825c-4866-d649-3fb831cb51c4"
      },
      "execution_count": null,
      "outputs": [
        {
          "execution_count": 134,
          "output_type": "execute_result",
          "data": {
            "text/plain": "0.4979919678714859"
          },
          "metadata": {}
        }
      ]
    },
    {
      "cell_type": "code",
      "source": [],
      "metadata": {
        "id": "ezC9S8Q9uFhR"
      },
      "execution_count": null,
      "outputs": []
    },
    {
      "cell_type": "code",
      "source": [],
      "metadata": {
        "id": "bDZvUv2euFhR"
      },
      "execution_count": null,
      "outputs": []
    }
  ]
}